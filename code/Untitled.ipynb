{
 "cells": [
  {
   "cell_type": "code",
   "execution_count": 2,
   "id": "3bcf7560",
   "metadata": {},
   "outputs": [],
   "source": [
    "import netCDF4 as nc\n",
    "import numpy as np\n",
    "import numpy.ma as ma\n",
    "import pandas as pd\n",
    "import seaborn as sns\n",
    "import matplotlib.pyplot as plt"
   ]
  },
  {
   "cell_type": "code",
   "execution_count": 3,
   "id": "f6841d82",
   "metadata": {},
   "outputs": [],
   "source": [
    "fn = \"/home/charlie/Documents/Uni/Exeter - Data Science/MTHM604_Tackling_Sustainability_Challenges/MTHM604_week_2/data/rawData/TIGER_Model_2019-11/flow/output/TIGER_map.nc\"\n",
    "ds = nc.Dataset(fn)\n"
   ]
  },
  {
   "cell_type": "code",
   "execution_count": 4,
   "id": "b2335076",
   "metadata": {},
   "outputs": [
    {
     "name": "stdout",
     "output_type": "stream",
     "text": [
      "projected_coordinate_system :  ()\n",
      "mesh2d :  ()\n",
      "mesh2d_node_x :  (146637,)\n",
      "mesh2d_node_y :  (146637,)\n",
      "mesh2d_node_z :  (146637,)\n",
      "mesh2d_edge_x :  (426111,)\n",
      "mesh2d_edge_y :  (426111,)\n",
      "mesh2d_edge_nodes :  (426111, 2)\n",
      "mesh2d_face_nodes :  (279464, 4)\n",
      "mesh2d_edge_faces :  (426111, 2)\n",
      "mesh2d_face_x :  (279464,)\n",
      "mesh2d_face_y :  (279464,)\n",
      "mesh2d_face_x_bnd :  (279464, 4)\n",
      "mesh2d_face_y_bnd :  (279464, 4)\n",
      "mesh2d_edge_type :  (426111,)\n",
      "mesh2d_flowelem_ba :  (279464,)\n",
      "mesh2d_flowelem_bl :  (279464,)\n",
      "time :  (2593,)\n",
      "timestep :  (2593,)\n",
      "mesh2d_waterdepth :  (2593, 279464)\n",
      "mesh2d_s1 :  (2593, 279464)\n",
      "mesh2d_ucx :  (2593, 279464)\n",
      "mesh2d_ucy :  (2593, 279464)\n",
      "mesh2d_ucmag :  (2593, 279464)\n",
      "mesh2d_czs :  (2593, 279464)\n"
     ]
    }
   ],
   "source": [
    "# print all variable names and shape of each variable\n",
    "for i in ds.variables.keys():\n",
    "    print(i, ': ', ds[i].shape)"
   ]
  },
  {
   "cell_type": "code",
   "execution_count": 5,
   "id": "6c41f79a",
   "metadata": {},
   "outputs": [],
   "source": [
    "\n",
    "# Return individual variables\n",
    "\n",
    "meshx = ds['mesh2d_node_x'][:]\n",
    "meshy = ds['mesh2d_node_y'][:]\n",
    "meshz = ds['mesh2d_node_z'][:]"
   ]
  },
  {
   "cell_type": "code",
   "execution_count": 6,
   "id": "1db38910",
   "metadata": {},
   "outputs": [],
   "source": [
    "mesh_ucmag = ds['mesh2d_ucmag'][:]\n",
    "mesh_ucmagd = np.ma.getdata(mesh_ucmag)"
   ]
  },
  {
   "cell_type": "code",
   "execution_count": 7,
   "id": "6e3f83e0",
   "metadata": {},
   "outputs": [
    {
     "data": {
      "text/plain": [
       "(2593, 279464)"
      ]
     },
     "execution_count": 7,
     "metadata": {},
     "output_type": "execute_result"
    }
   ],
   "source": [
    "mesh_ucmagd.shape"
   ]
  },
  {
   "cell_type": "code",
   "execution_count": 8,
   "id": "8e9d4a69",
   "metadata": {},
   "outputs": [],
   "source": [
    "df = pd.DataFrame(mesh_ucmagd)"
   ]
  },
  {
   "cell_type": "code",
   "execution_count": 9,
   "id": "6fb5bb69",
   "metadata": {},
   "outputs": [
    {
     "data": {
      "text/html": [
       "<div>\n",
       "<style scoped>\n",
       "    .dataframe tbody tr th:only-of-type {\n",
       "        vertical-align: middle;\n",
       "    }\n",
       "\n",
       "    .dataframe tbody tr th {\n",
       "        vertical-align: top;\n",
       "    }\n",
       "\n",
       "    .dataframe thead th {\n",
       "        text-align: right;\n",
       "    }\n",
       "</style>\n",
       "<table border=\"1\" class=\"dataframe\">\n",
       "  <thead>\n",
       "    <tr style=\"text-align: right;\">\n",
       "      <th></th>\n",
       "      <th>0</th>\n",
       "      <th>1</th>\n",
       "      <th>2</th>\n",
       "      <th>3</th>\n",
       "      <th>4</th>\n",
       "      <th>5</th>\n",
       "      <th>6</th>\n",
       "      <th>7</th>\n",
       "      <th>8</th>\n",
       "      <th>9</th>\n",
       "      <th>...</th>\n",
       "      <th>279454</th>\n",
       "      <th>279455</th>\n",
       "      <th>279456</th>\n",
       "      <th>279457</th>\n",
       "      <th>279458</th>\n",
       "      <th>279459</th>\n",
       "      <th>279460</th>\n",
       "      <th>279461</th>\n",
       "      <th>279462</th>\n",
       "      <th>279463</th>\n",
       "    </tr>\n",
       "  </thead>\n",
       "  <tbody>\n",
       "    <tr>\n",
       "      <th>0</th>\n",
       "      <td>0.000000e+00</td>\n",
       "      <td>0.000000e+00</td>\n",
       "      <td>0.000000e+00</td>\n",
       "      <td>0.000000e+00</td>\n",
       "      <td>0.000000e+00</td>\n",
       "      <td>0.000000e+00</td>\n",
       "      <td>0.000000e+00</td>\n",
       "      <td>0.000000e+00</td>\n",
       "      <td>0.000000e+00</td>\n",
       "      <td>0.000000e+00</td>\n",
       "      <td>...</td>\n",
       "      <td>0.0</td>\n",
       "      <td>0.0</td>\n",
       "      <td>0.0</td>\n",
       "      <td>0.0</td>\n",
       "      <td>0.0</td>\n",
       "      <td>0.0</td>\n",
       "      <td>0.0</td>\n",
       "      <td>0.0</td>\n",
       "      <td>0.0</td>\n",
       "      <td>0.0</td>\n",
       "    </tr>\n",
       "    <tr>\n",
       "      <th>1</th>\n",
       "      <td>4.318808e-16</td>\n",
       "      <td>3.074934e-16</td>\n",
       "      <td>7.641699e-16</td>\n",
       "      <td>5.464864e-16</td>\n",
       "      <td>3.862898e-16</td>\n",
       "      <td>1.894691e-16</td>\n",
       "      <td>2.468480e-16</td>\n",
       "      <td>4.995329e-16</td>\n",
       "      <td>6.589801e-16</td>\n",
       "      <td>4.718876e-16</td>\n",
       "      <td>...</td>\n",
       "      <td>0.0</td>\n",
       "      <td>0.0</td>\n",
       "      <td>0.0</td>\n",
       "      <td>0.0</td>\n",
       "      <td>0.0</td>\n",
       "      <td>0.0</td>\n",
       "      <td>0.0</td>\n",
       "      <td>0.0</td>\n",
       "      <td>0.0</td>\n",
       "      <td>0.0</td>\n",
       "    </tr>\n",
       "    <tr>\n",
       "      <th>2</th>\n",
       "      <td>1.045777e-15</td>\n",
       "      <td>1.080218e-15</td>\n",
       "      <td>1.207854e-15</td>\n",
       "      <td>1.258160e-15</td>\n",
       "      <td>9.958852e-16</td>\n",
       "      <td>1.362624e-15</td>\n",
       "      <td>1.147718e-15</td>\n",
       "      <td>4.525909e-16</td>\n",
       "      <td>1.369165e-16</td>\n",
       "      <td>1.974264e-16</td>\n",
       "      <td>...</td>\n",
       "      <td>0.0</td>\n",
       "      <td>0.0</td>\n",
       "      <td>0.0</td>\n",
       "      <td>0.0</td>\n",
       "      <td>0.0</td>\n",
       "      <td>0.0</td>\n",
       "      <td>0.0</td>\n",
       "      <td>0.0</td>\n",
       "      <td>0.0</td>\n",
       "      <td>0.0</td>\n",
       "    </tr>\n",
       "    <tr>\n",
       "      <th>3</th>\n",
       "      <td>1.641627e-15</td>\n",
       "      <td>1.243177e-15</td>\n",
       "      <td>1.431433e-15</td>\n",
       "      <td>1.484577e-15</td>\n",
       "      <td>1.383986e-15</td>\n",
       "      <td>2.433536e-15</td>\n",
       "      <td>2.097595e-15</td>\n",
       "      <td>2.212372e-15</td>\n",
       "      <td>1.621131e-16</td>\n",
       "      <td>1.384428e-16</td>\n",
       "      <td>...</td>\n",
       "      <td>0.0</td>\n",
       "      <td>0.0</td>\n",
       "      <td>0.0</td>\n",
       "      <td>0.0</td>\n",
       "      <td>0.0</td>\n",
       "      <td>0.0</td>\n",
       "      <td>0.0</td>\n",
       "      <td>0.0</td>\n",
       "      <td>0.0</td>\n",
       "      <td>0.0</td>\n",
       "    </tr>\n",
       "    <tr>\n",
       "      <th>4</th>\n",
       "      <td>1.233877e-15</td>\n",
       "      <td>4.955687e-16</td>\n",
       "      <td>2.195735e-15</td>\n",
       "      <td>1.218810e-15</td>\n",
       "      <td>5.365846e-16</td>\n",
       "      <td>1.924399e-15</td>\n",
       "      <td>1.070991e-15</td>\n",
       "      <td>1.634123e-15</td>\n",
       "      <td>1.157891e-15</td>\n",
       "      <td>3.209762e-16</td>\n",
       "      <td>...</td>\n",
       "      <td>0.0</td>\n",
       "      <td>0.0</td>\n",
       "      <td>0.0</td>\n",
       "      <td>0.0</td>\n",
       "      <td>0.0</td>\n",
       "      <td>0.0</td>\n",
       "      <td>0.0</td>\n",
       "      <td>0.0</td>\n",
       "      <td>0.0</td>\n",
       "      <td>0.0</td>\n",
       "    </tr>\n",
       "  </tbody>\n",
       "</table>\n",
       "<p>5 rows × 279464 columns</p>\n",
       "</div>"
      ],
      "text/plain": [
       "         0             1             2             3             4       \\\n",
       "0  0.000000e+00  0.000000e+00  0.000000e+00  0.000000e+00  0.000000e+00   \n",
       "1  4.318808e-16  3.074934e-16  7.641699e-16  5.464864e-16  3.862898e-16   \n",
       "2  1.045777e-15  1.080218e-15  1.207854e-15  1.258160e-15  9.958852e-16   \n",
       "3  1.641627e-15  1.243177e-15  1.431433e-15  1.484577e-15  1.383986e-15   \n",
       "4  1.233877e-15  4.955687e-16  2.195735e-15  1.218810e-15  5.365846e-16   \n",
       "\n",
       "         5             6             7             8             9       ...  \\\n",
       "0  0.000000e+00  0.000000e+00  0.000000e+00  0.000000e+00  0.000000e+00  ...   \n",
       "1  1.894691e-16  2.468480e-16  4.995329e-16  6.589801e-16  4.718876e-16  ...   \n",
       "2  1.362624e-15  1.147718e-15  4.525909e-16  1.369165e-16  1.974264e-16  ...   \n",
       "3  2.433536e-15  2.097595e-15  2.212372e-15  1.621131e-16  1.384428e-16  ...   \n",
       "4  1.924399e-15  1.070991e-15  1.634123e-15  1.157891e-15  3.209762e-16  ...   \n",
       "\n",
       "   279454  279455  279456  279457  279458  279459  279460  279461  279462  \\\n",
       "0     0.0     0.0     0.0     0.0     0.0     0.0     0.0     0.0     0.0   \n",
       "1     0.0     0.0     0.0     0.0     0.0     0.0     0.0     0.0     0.0   \n",
       "2     0.0     0.0     0.0     0.0     0.0     0.0     0.0     0.0     0.0   \n",
       "3     0.0     0.0     0.0     0.0     0.0     0.0     0.0     0.0     0.0   \n",
       "4     0.0     0.0     0.0     0.0     0.0     0.0     0.0     0.0     0.0   \n",
       "\n",
       "   279463  \n",
       "0     0.0  \n",
       "1     0.0  \n",
       "2     0.0  \n",
       "3     0.0  \n",
       "4     0.0  \n",
       "\n",
       "[5 rows x 279464 columns]"
      ]
     },
     "execution_count": 9,
     "metadata": {},
     "output_type": "execute_result"
    }
   ],
   "source": [
    "df.head()"
   ]
  },
  {
   "cell_type": "code",
   "execution_count": 1,
   "id": "4c39f873",
   "metadata": {},
   "outputs": [
    {
     "ename": "NameError",
     "evalue": "name 'plt' is not defined",
     "output_type": "error",
     "traceback": [
      "\u001b[0;31m---------------------------------------------------------------------------\u001b[0m",
      "\u001b[0;31mNameError\u001b[0m                                 Traceback (most recent call last)",
      "\u001b[0;32m/tmp/ipykernel_33542/840483254.py\u001b[0m in \u001b[0;36m<module>\u001b[0;34m\u001b[0m\n\u001b[0;32m----> 1\u001b[0;31m \u001b[0mfig\u001b[0m\u001b[0;34m,\u001b[0m \u001b[0max\u001b[0m \u001b[0;34m=\u001b[0m \u001b[0mplt\u001b[0m\u001b[0;34m.\u001b[0m\u001b[0msubplots\u001b[0m\u001b[0;34m(\u001b[0m\u001b[0;34m)\u001b[0m\u001b[0;34m\u001b[0m\u001b[0;34m\u001b[0m\u001b[0m\n\u001b[0m\u001b[1;32m      2\u001b[0m \u001b[0max\u001b[0m\u001b[0;34m.\u001b[0m\u001b[0mimshow\u001b[0m\u001b[0;34m(\u001b[0m\u001b[0mdf\u001b[0m\u001b[0;34m,\u001b[0m \u001b[0minterpolation\u001b[0m\u001b[0;34m=\u001b[0m\u001b[0;34m'nearest'\u001b[0m\u001b[0;34m,\u001b[0m \u001b[0mcmap\u001b[0m\u001b[0;34m=\u001b[0m\u001b[0;34m'viridis_r'\u001b[0m\u001b[0;34m)\u001b[0m\u001b[0;34m\u001b[0m\u001b[0;34m\u001b[0m\u001b[0m\n\u001b[1;32m      3\u001b[0m \u001b[0;34m\u001b[0m\u001b[0m\n\u001b[1;32m      4\u001b[0m \u001b[0mplt\u001b[0m\u001b[0;34m.\u001b[0m\u001b[0mshow\u001b[0m\u001b[0;34m(\u001b[0m\u001b[0;34m)\u001b[0m\u001b[0;34m\u001b[0m\u001b[0;34m\u001b[0m\u001b[0m\n",
      "\u001b[0;31mNameError\u001b[0m: name 'plt' is not defined"
     ]
    }
   ],
   "source": [
    "fig, ax = plt.subplots()\n",
    "ax.imshow(df, interpolation='nearest', cmap='viridis_r')\n",
    "\n",
    "plt.show()"
   ]
  },
  {
   "cell_type": "code",
   "execution_count": null,
   "id": "d7e1c21d",
   "metadata": {},
   "outputs": [],
   "source": []
  }
 ],
 "metadata": {
  "kernelspec": {
   "display_name": "Python 3 (ipykernel)",
   "language": "python",
   "name": "python3"
  },
  "language_info": {
   "codemirror_mode": {
    "name": "ipython",
    "version": 3
   },
   "file_extension": ".py",
   "mimetype": "text/x-python",
   "name": "python",
   "nbconvert_exporter": "python",
   "pygments_lexer": "ipython3",
   "version": "3.9.7"
  }
 },
 "nbformat": 4,
 "nbformat_minor": 5
}
